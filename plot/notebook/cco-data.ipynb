{
 "cells": [
  {
   "cell_type": "code",
   "execution_count": null,
   "id": "3611a432",
   "metadata": {},
   "outputs": [],
   "source": [
    "data = \"\"\"\n",
    "./k4x4x2/c_15/ke_140/afm/UDMET/slurm-51675392.out\n",
    "    CPU time for prepare eri_emb 116759.35 sec, wall time   4856.17 sec\n",
    "    CPU time for prepare eri_emb   6848.12 sec, wall time    318.66 sec\n",
    "./k4x4x2/c_15/ke_140/afm/slurm-50952667.out\n",
    "./k4x4x2/c_15/ke_140/pm/UDMET/slurm-51701256.out\n",
    "./k4x4x2/c_15/ke_140/pm/UDMET/slurm-51705245.out\n",
    "    CPU time for prepare eri_emb  95484.61 sec, wall time   3247.87 sec\n",
    "    CPU time for prepare eri_emb   5279.56 sec, wall time    185.18 sec\n",
    "./k4x4x2/c_15/ke_140/pm/slurm-51671019.out\n",
    "./k4x4x4/c_15/ke_140/afm/UDMET/slurm-51739202.out\n",
    "    CPU time for prepare eri_emb 201623.06 sec, wall time   7745.65 sec\n",
    "    CPU time for prepare eri_emb  10855.05 sec, wall time    415.59 sec\n",
    "./k4x4x4/c_15/ke_140/afm/slurm-51055612.out\n",
    "./k4x4x4/c_15/ke_140/pm/UDMET/slurm-51741687.out\n",
    "    CPU time for prepare eri_emb  48740.94 sec, wall time   1992.58 sec\n",
    "    CPU time for prepare eri_emb   3393.61 sec, wall time    152.13 sec\n",
    "./k4x4x4/c_15/ke_140/pm/slurm-51670963.out\n",
    "./k6x6x6/c_15/ke_140/afm/UDMET/slurm-51773773.out\n",
    "./k6x6x6/c_15/ke_140/afm/UDMET/slurm-51776830.out\n",
    "    CPU time for prepare eri_emb 141941.88 sec, wall time   5995.27 sec\n",
    "    CPU time for prepare eri_emb   9016.83 sec, wall time    397.31 sec\n",
    "./k6x6x6/c_15/ke_140/afm/slurm-51740045.out\n",
    "./k6x6x6/c_15/ke_140/afm/slurm-51750162.out\n",
    "./k6x6x6/c_15/ke_140/pm/UDMET/slurm-51773799.out\n",
    "./k6x6x6/c_15/ke_140/pm/UDMET/slurm-51776838.out\n",
    "    CPU time for prepare eri_emb 142460.42 sec, wall time   6227.41 sec\n",
    "    CPU time for prepare eri_emb   9027.75 sec, wall time    382.90 sec\n",
    "./k6x6x6/c_15/ke_140/pm/UDMET/slurm-51807248.out\n",
    "./k6x6x6/c_15/ke_140/pm/slurm-51740882.out\n",
    "./k6x6x6/c_15/ke_140/pm/slurm-51753269.out\n",
    "./k6x6x6/c_15/ke_140/slurm-51661848.out\n",
    "\"\"\"\n",
    "\n",
    "c10_c15 = 789.74 / 4856.17\n",
    "c15_time = [3247.87, 1992.58, 6227.41]"
   ]
  }
 ],
 "metadata": {
  "language_info": {
   "name": "python"
  }
 },
 "nbformat": 4,
 "nbformat_minor": 5
}
