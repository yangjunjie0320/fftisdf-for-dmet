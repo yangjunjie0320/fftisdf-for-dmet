{
 "cells": [
  {
   "cell_type": "code",
   "execution_count": 103,
   "id": "e9af2717",
   "metadata": {},
   "outputs": [],
   "source": [
    "%run ../collect.py --root_dir=/Users/yangjunjie/work/fftisdf-for-dmet/fftisdf-with-dmet-main/benchmark/klno/diamond --filename=out.log --output=../data/diamond-klno.json\n",
    "%run ../collect.py --root_dir=/Users/yangjunjie/work/fftisdf-for-dmet/fftisdf-with-dmet-main/benchmark/k-sos-mp2/diamond --filename=out.log --output=../data/diamond-k-sos-mp2.json\n",
    "%run ../collect.py --root_dir=/Users/yangjunjie/work/fftisdf-for-dmet/fftisdf-with-dmet-main/benchmark/ref-kpts/diamond --filename=out.log --output=../data/diamond-ref-kpts.json"
   ]
  },
  {
   "cell_type": "code",
   "execution_count": 104,
   "id": "487beab3",
   "metadata": {},
   "outputs": [],
   "source": [
    "import os, sys, json\n",
    "import pandas as pd\n",
    "\n",
    "def load_data(f):\n",
    "    # Load the JSON data as a dictionary first\n",
    "    with open(f, 'r') as file:\n",
    "        data = json.load(file)\n",
    "    \n",
    "    # Convert the nested dictionary to a list of records\n",
    "    records = []\n",
    "    for path, params in data.items():\n",
    "        # Add the path as a field and merge with params\n",
    "        record = {'path': path, **params}\n",
    "        records.append(record)\n",
    "    \n",
    "    # Create DataFrame from records\n",
    "    return pd.DataFrame(records)\n",
    "\n",
    "d = load_data('../data/diamond-klno.json')\n",
    "data_diamond_klno = d[d['method'] == 'fftisdf-60-14']\n",
    "\n",
    "d = load_data('../data/diamond-k-sos-mp2.json')\n",
    "data_diamond_k_sos_mp2 = d[d['method'] == 'fftisdf-60-14']"
   ]
  },
  {
   "cell_type": "code",
   "execution_count": 127,
   "id": "35e645fc",
   "metadata": {},
   "outputs": [
    {
     "name": "stdout",
     "output_type": "stream",
     "text": [
      "nk =    2, ene_krhf = -10.57682410, ene_sos_mp2 = -10.79326588, ene_mp2 = -10.79447736, ene_ccsd = -10.82233978, ene_ccsd_t = -10.83176806\n",
      "nk =    4, ene_krhf = -10.82926354, ene_sos_mp2 = -11.05036103, ene_mp2 = -11.05831548, ene_ccsd = -11.07575006, ene_ccsd_t = -11.08617015\n",
      "nk =    8, ene_krhf = -10.95722433, ene_sos_mp2 = -11.17958906, ene_mp2 = -11.19198167, ene_ccsd = -11.20465634, ene_ccsd_t = -11.21554575\n",
      "nk =   12, ene_krhf = -10.99956058, ene_sos_mp2 = -11.22787028, ene_mp2 = -11.24397339, ene_ccsd = -11.25539156, ene_ccsd_t = -11.26606734\n",
      "nk =   18, ene_krhf = -11.02151491, ene_sos_mp2 = -11.25340190, ene_mp2 = -11.27047886, ene_ccsd = -11.28290776, ene_ccsd_t = -11.29260498\n",
      "nk =   27, ene_krhf = -11.02227872, ene_sos_mp2 = -11.25604321, ene_mp2 = -11.27366813, ene_ccsd = -11.28550495, ene_ccsd_t = -11.29517368\n",
      "nk =   36, ene_krhf = -11.02794901, ene_sos_mp2 = -11.26467121, ene_mp2 = -11.28405596, ene_ccsd = -11.29421058, ene_ccsd_t = -11.30422366\n",
      "nk =   48, ene_krhf = -11.03012751, ene_sos_mp2 = -11.26858440, ene_mp2 = -11.28898300, ene_ccsd = -11.29816196, ene_ccsd_t = -11.30835709\n",
      "nk =   64, ene_krhf = -11.02874276, ene_sos_mp2 = -11.26788283, ene_mp2 = -11.28848031, ene_ccsd = -11.29742321, ene_ccsd_t = -11.30764950\n",
      "nk =   80, ene_krhf = -11.02925795, ene_sos_mp2 = -11.26970470, ene_mp2 = -11.29088377, ene_ccsd = -11.29926541, ene_ccsd_t = -11.30964263\n",
      "nk =  100, ene_krhf = -11.02918477, ene_sos_mp2 = -11.27042144, ene_mp2 = -11.29192104, ene_ccsd = -11.29997589, ene_ccsd_t = -11.31043816\n",
      "nk =  125, ene_krhf = -11.02832098, ene_sos_mp2 = -11.26987896, ene_mp2 = -11.29145706, ene_ccsd = -11.29941478, ene_ccsd_t = -11.30989644\n",
      "nk =  150, ene_krhf = -11.02814471, ene_sos_mp2 = -11.27026685, ene_mp2 = -11.29205007, ene_ccsd = -11.29979801, ene_ccsd_t = -11.31034734\n",
      "nk =  180, ene_krhf = -11.02783412, ene_sos_mp2 = -11.27029569, ene_mp2 = -11.29220465, ene_ccsd = -11.29982282, ene_ccsd_t = -11.31040956\n",
      "nk =  216, ene_krhf = -11.02738350, ene_sos_mp2 = -11.26998096, ene_mp2 = -11.29192759, ene_ccsd = -11.29948878, ene_ccsd_t = -11.31009214\n",
      "nk =  252, ene_krhf = -11.02717299, ene_sos_mp2 = -11.27004094, ene_mp2 = -11.29206246, ene_ccsd = -11.29954617, ene_ccsd_t = -11.31017804\n",
      "nk =  294, ene_krhf = -11.02692286, ene_sos_mp2 = -11.26996030, ene_mp2 = -11.29202787, ene_ccsd = -11.29946547, ene_ccsd_t = -11.31011098\n",
      "nk =  343, ene_krhf = -11.02670439, ene_sos_mp2 = -11.26981393, ene_mp2 = -11.29190214, ene_ccsd = -11.29930737, ene_ccsd_t = -11.30996254\n",
      "nk =  392, ene_krhf = -11.02652810, ene_sos_mp2 = -11.26977764, ene_mp2 = -11.29189790, ene_ccsd = -11.29927030, ene_ccsd_t = -11.30993885\n",
      "nk =  448, ene_krhf = -11.02638285, ene_sos_mp2 = -11.26971944, ene_mp2 = -11.29185935, ene_ccsd = -11.29920919, ene_ccsd_t = -11.30988525\n",
      "nk =  512, ene_krhf = -11.02626624, ene_sos_mp2 = -11.26964054, ene_mp2 = -11.29179133, ene_ccsd = -11.29912235, ene_ccsd_t = -11.30980396\n"
     ]
    }
   ],
   "source": [
    "# plot all the results\n",
    "nkpt = data_diamond_klno['nkpt'].unique()\n",
    "nkpt.sort()\n",
    "nkpt = nkpt[0:-1]\n",
    "\n",
    "for nk in nkpt:\n",
    "    colors = ['r', 'g', 'b']\n",
    "    label = ['e_corr_klno_corr_os', 'e_corr_klno_corr_mp2', 'e_corr_klno_corr_ccsd', 'e_corr_klno_corr_ccsd_t']\n",
    "    cols = data_diamond_klno[data_diamond_klno['nkpt'] == nk][label]\n",
    "    x0 = data_diamond_k_sos_mp2[data_diamond_k_sos_mp2['nkpt'] == nk]['ene_os_lt30'].item()\n",
    "\n",
    "    # print(f\"nkpt: {nk}\")\n",
    "    cols = cols[cols != 0]\n",
    "    # delete NaN\n",
    "    cols = cols.dropna()\n",
    "    # sort by e_corr_klno_corr_os\n",
    "    cols = cols.sort_values('e_corr_klno_corr_os')\n",
    "\n",
    "\n",
    "    import matplotlib.pyplot as plt\n",
    "    # fig, ax = plt.subplots()\n",
    "\n",
    "    ene_krhf = data_diamond_klno[data_diamond_klno['nkpt'] == nk]['ene_krhf'].values[0]\n",
    "    out = \"nk = %4d, ene_krhf = %12.8f, ene_sos_mp2 = %12.8f\" % (nk, ene_krhf, ene_krhf + x0 * 1.3)\n",
    "    for il, l in enumerate(label[1:]):\n",
    "        x = cols['e_corr_klno_corr_os']\n",
    "        y = cols[l]\n",
    "        # delete repeated values\n",
    "        x = x.drop_duplicates()\n",
    "        y = y.drop_duplicates()\n",
    "        # print(x)\n",
    "        # print(y)\n",
    "        \n",
    "        import numpy, scipy\n",
    "        from scipy.optimize import curve_fit\n",
    "\n",
    "        r = numpy.polyfit(x[:4], y[:4], 1)\n",
    "        p = numpy.poly1d(r)\n",
    "        y0 = p(x0)\n",
    "\n",
    "        # ax.scatter(x, y, c=colors[il], label=l)\n",
    "        # xmin = min(x.min(), x0)\n",
    "        # xmax = max(x.max(), x0)\n",
    "        # x = numpy.linspace(xmin, xmax, 100)\n",
    "        # y = p(x)\n",
    "        # ax.plot(x, y, color=colors[il], linestyle='--', marker='')\n",
    "        # ax.scatter([x0], [y0], c=colors[il], label=l, marker='x')\n",
    "\n",
    "        # ax.legend()\n",
    "        \n",
    "        name = \"ene_\" + l.split('e_corr_klno_corr_')[-1]\n",
    "        out += f\", {name} = {y0 + ene_krhf:12.8f}\"\n",
    "\n",
    "    print(out)\n",
    "\n"
   ]
  },
  {
   "cell_type": "code",
   "execution_count": null,
   "id": "7e790c91",
   "metadata": {},
   "outputs": [],
   "source": []
  }
 ],
 "metadata": {
  "kernelspec": {
   "display_name": "base",
   "language": "python",
   "name": "python3"
  },
  "language_info": {
   "codemirror_mode": {
    "name": "ipython",
    "version": 3
   },
   "file_extension": ".py",
   "mimetype": "text/x-python",
   "name": "python",
   "nbconvert_exporter": "python",
   "pygments_lexer": "ipython3",
   "version": "3.12.7"
  }
 },
 "nbformat": 4,
 "nbformat_minor": 5
}
